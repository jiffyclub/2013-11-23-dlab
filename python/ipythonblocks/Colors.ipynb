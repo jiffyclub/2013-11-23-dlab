{
 "metadata": {
  "name": ""
 },
 "nbformat": 3,
 "nbformat_minor": 0,
 "worksheets": [
  {
   "cells": [
    {
     "cell_type": "heading",
     "level": 1,
     "metadata": {},
     "source": [
      "Understanding RGB Colors"
     ]
    },
    {
     "cell_type": "markdown",
     "metadata": {},
     "source": [
      "The goal in this notebook is to help you understand how to manipulate [RGB color values](http://en.wikipedia.org/wiki/RGB_color_model) to make a desired color."
     ]
    },
    {
     "cell_type": "code",
     "collapsed": false,
     "input": [
      "from ipythonblocks import show_color, embed_colorpicker, colors"
     ],
     "language": "python",
     "metadata": {},
     "outputs": [],
     "prompt_number": 1
    },
    {
     "cell_type": "markdown",
     "metadata": {},
     "source": [
      "**Exercise:** Use the `show_color` function to make approximately the following colors:\n",
      "\n",
      "<ul>\n",
      "    <li style=\"background: rgb(0, 0, 150);\"></li>\n",
      "    <li style=\"background: rgb(250, 100, 50);\"></li>\n",
      "    <li style=\"background: rgb(200, 0, 150);\"></li>\n",
      "    <li>Your favorite color.</li>\n",
      "</ul>"
     ]
    },
    {
     "cell_type": "code",
     "collapsed": false,
     "input": [
      "show_color(100, 0, 0)"
     ],
     "language": "python",
     "metadata": {},
     "outputs": [
      {
       "html": [
        "<div style=\"height: 60px; min-width: 200px; background-color: rgb(100, 0, 0)\"></div>"
       ],
       "metadata": {},
       "output_type": "display_data",
       "text": [
        "<IPython.core.display.HTML at 0x107e21690>"
       ]
      }
     ],
     "prompt_number": 2
    },
    {
     "cell_type": "code",
     "collapsed": false,
     "input": [
      "show_color(0, 200, 200)"
     ],
     "language": "python",
     "metadata": {},
     "outputs": [
      {
       "html": [
        "<div style=\"height: 60px; min-width: 200px; background-color: rgb(0, 200, 200)\"></div>"
       ],
       "metadata": {},
       "output_type": "display_data",
       "text": [
        "<IPython.core.display.HTML at 0x107e21690>"
       ]
      }
     ],
     "prompt_number": 3
    },
    {
     "cell_type": "code",
     "collapsed": false,
     "input": [
      "show_color(0, 0, 0)"
     ],
     "language": "python",
     "metadata": {},
     "outputs": [
      {
       "html": [
        "<div style=\"height: 60px; min-width: 200px; background-color: rgb(0, 0, 0)\"></div>"
       ],
       "metadata": {},
       "output_type": "display_data",
       "text": [
        "<IPython.core.display.HTML at 0x107e21590>"
       ]
      }
     ],
     "prompt_number": 4
    },
    {
     "cell_type": "code",
     "collapsed": false,
     "input": [
      "show_color(255, 255, 255)"
     ],
     "language": "python",
     "metadata": {},
     "outputs": [
      {
       "html": [
        "<div style=\"height: 60px; min-width: 200px; background-color: rgb(255, 255, 255)\"></div>"
       ],
       "metadata": {},
       "output_type": "display_data",
       "text": [
        "<IPython.core.display.HTML at 0x107e21790>"
       ]
      }
     ],
     "prompt_number": 5
    },
    {
     "cell_type": "code",
     "collapsed": false,
     "input": [
      "colors"
     ],
     "language": "python",
     "metadata": {},
     "outputs": [
      {
       "metadata": {},
       "output_type": "pyout",
       "prompt_number": 9,
       "text": [
        "{'AliceBlue': (240, 248, 255),\n",
        " 'AntiqueWhite': (250, 235, 215),\n",
        " 'Aqua': (0, 255, 255),\n",
        " 'Aquamarine': (127, 255, 212),\n",
        " 'Azure': (240, 255, 255),\n",
        " 'Beige': (245, 245, 220),\n",
        " 'Bisque': (255, 228, 196),\n",
        " 'Black': (0, 0, 0),\n",
        " 'BlanchedAlmond': (255, 235, 205),\n",
        " 'Blue': (0, 0, 255),\n",
        " 'BlueViolet': (138, 43, 226),\n",
        " 'Brown': (165, 42, 42),\n",
        " 'BurlyWood': (222, 184, 135),\n",
        " 'CadetBlue': (95, 158, 160),\n",
        " 'Chartreuse': (127, 255, 0),\n",
        " 'Chocolate': (210, 105, 30),\n",
        " 'Coral': (255, 127, 80),\n",
        " 'CornflowerBlue': (100, 149, 237),\n",
        " 'Cornsilk': (255, 248, 220),\n",
        " 'Crimson': (220, 20, 60),\n",
        " 'Cyan': (0, 255, 255),\n",
        " 'DarkBlue': (0, 0, 139),\n",
        " 'DarkCyan': (0, 139, 139),\n",
        " 'DarkGoldenrod': (184, 134, 11),\n",
        " 'DarkGray': (169, 169, 169),\n",
        " 'DarkGreen': (0, 100, 0),\n",
        " 'DarkKhaki': (189, 183, 107),\n",
        " 'DarkMagenta': (139, 0, 139),\n",
        " 'DarkOliveGreen': (85, 107, 47),\n",
        " 'DarkOrange': (255, 140, 0),\n",
        " 'DarkOrchid': (153, 50, 204),\n",
        " 'DarkRed': (139, 0, 0),\n",
        " 'DarkSalmon': (233, 150, 122),\n",
        " 'DarkSeaGreen': (143, 188, 143),\n",
        " 'DarkSlateBlue': (72, 61, 139),\n",
        " 'DarkSlateGray': (47, 79, 79),\n",
        " 'DarkTurquoise': (0, 206, 209),\n",
        " 'DarkViolet': (148, 0, 211),\n",
        " 'DeepPink': (255, 20, 147),\n",
        " 'DeepSkyBlue': (0, 191, 255),\n",
        " 'DimGray': (105, 105, 105),\n",
        " 'DodgerBlue': (30, 144, 255),\n",
        " 'FireBrick': (178, 34, 34),\n",
        " 'FloralWhite': (255, 250, 240),\n",
        " 'ForestGreen': (34, 139, 34),\n",
        " 'Fuchsia': (255, 0, 255),\n",
        " 'Gainsboro': (220, 220, 220),\n",
        " 'GhostWhite': (248, 248, 255),\n",
        " 'Gold': (255, 215, 0),\n",
        " 'Goldenrod': (218, 165, 32),\n",
        " 'Gray': (128, 128, 128),\n",
        " 'Green': (0, 128, 0),\n",
        " 'GreenYellow': (173, 255, 47),\n",
        " 'Honeydew': (240, 255, 240),\n",
        " 'HotPink': (255, 105, 180),\n",
        " 'IndianRed': (205, 92, 92),\n",
        " 'Indigo': (75, 0, 130),\n",
        " 'Ivory': (255, 255, 240),\n",
        " 'Khaki': (240, 230, 140),\n",
        " 'Lavender': (230, 230, 250),\n",
        " 'LavenderBlush': (255, 240, 245),\n",
        " 'LawnGreen': (124, 252, 0),\n",
        " 'LemonChiffon': (255, 250, 205),\n",
        " 'LightBlue': (173, 216, 230),\n",
        " 'LightCoral': (240, 128, 128),\n",
        " 'LightCyan': (224, 255, 255),\n",
        " 'LightGoldenrodYellow': (250, 250, 210),\n",
        " 'LightGray': (211, 211, 211),\n",
        " 'LightGreen': (144, 238, 144),\n",
        " 'LightPink': (255, 182, 193),\n",
        " 'LightSalmon': (255, 160, 122),\n",
        " 'LightSeaGreen': (32, 178, 170),\n",
        " 'LightSkyBlue': (135, 206, 250),\n",
        " 'LightSlateGray': (119, 136, 153),\n",
        " 'LightSteelBlue': (176, 196, 222),\n",
        " 'LightYellow': (255, 255, 224),\n",
        " 'Lime': (0, 255, 0),\n",
        " 'LimeGreen': (50, 205, 50),\n",
        " 'Linen': (250, 240, 230),\n",
        " 'Magenta': (255, 0, 255),\n",
        " 'Maroon': (128, 0, 0),\n",
        " 'MediumAquamarine': (102, 205, 170),\n",
        " 'MediumBlue': (0, 0, 205),\n",
        " 'MediumOrchid': (186, 85, 211),\n",
        " 'MediumPurple': (147, 112, 219),\n",
        " 'MediumSeaGreen': (60, 179, 113),\n",
        " 'MediumSlateBlue': (123, 104, 238),\n",
        " 'MediumSpringGreen': (0, 250, 154),\n",
        " 'MediumTurquoise': (72, 209, 204),\n",
        " 'MediumVioletRed': (199, 21, 133),\n",
        " 'MidnightBlue': (25, 25, 112),\n",
        " 'MintCream': (245, 255, 250),\n",
        " 'MistyRose': (255, 228, 225),\n",
        " 'Moccasin': (255, 228, 181),\n",
        " 'NavajoWhite': (255, 222, 173),\n",
        " 'Navy': (0, 0, 128),\n",
        " 'OldLace': (253, 245, 230),\n",
        " 'Olive': (128, 128, 0),\n",
        " 'OliveDrab': (107, 142, 35),\n",
        " 'Orange': (255, 165, 0),\n",
        " 'OrangeRed': (255, 69, 0),\n",
        " 'Orchid': (218, 112, 214),\n",
        " 'PaleGoldenrod': (238, 232, 170),\n",
        " 'PaleGreen': (152, 251, 152),\n",
        " 'PaleTurquoise': (175, 238, 238),\n",
        " 'PaleVioletRed': (219, 112, 147),\n",
        " 'PapayaWhip': (255, 239, 213),\n",
        " 'PeachPuff': (255, 218, 185),\n",
        " 'Peru': (205, 133, 63),\n",
        " 'Pink': (255, 192, 203),\n",
        " 'Plum': (221, 160, 221),\n",
        " 'PowderBlue': (176, 224, 230),\n",
        " 'Purple': (128, 0, 128),\n",
        " 'Red': (255, 0, 0),\n",
        " 'RosyBrown': (188, 143, 143),\n",
        " 'RoyalBlue': (65, 105, 225),\n",
        " 'SaddleBrown': (139, 69, 19),\n",
        " 'Salmon': (250, 128, 114),\n",
        " 'SandyBrown': (244, 164, 96),\n",
        " 'SeaGreen': (46, 139, 87),\n",
        " 'Seashell': (255, 245, 238),\n",
        " 'Sienna': (160, 82, 45),\n",
        " 'Silver': (192, 192, 192),\n",
        " 'SkyBlue': (135, 206, 235),\n",
        " 'SlateBlue': (106, 90, 205),\n",
        " 'SlateGray': (112, 128, 144),\n",
        " 'Snow': (255, 250, 250),\n",
        " 'SpringGreen': (0, 255, 127),\n",
        " 'SteelBlue': (70, 130, 180),\n",
        " 'Tan': (210, 180, 140),\n",
        " 'Teal': (0, 128, 128),\n",
        " 'Thistle': (216, 191, 216),\n",
        " 'Tomato': (255, 99, 71),\n",
        " 'Turquoise': (64, 224, 208),\n",
        " 'Violet': (238, 130, 238),\n",
        " 'Wheat': (245, 222, 179),\n",
        " 'White': (255, 255, 255),\n",
        " 'WhiteSmoke': (245, 245, 245),\n",
        " 'Yellow': (255, 255, 0),\n",
        " 'YellowGreen': (154, 205, 50)}"
       ]
      }
     ],
     "prompt_number": 9
    },
    {
     "cell_type": "code",
     "collapsed": false,
     "input": [
      "colors['Crimson']"
     ],
     "language": "python",
     "metadata": {},
     "outputs": [
      {
       "metadata": {},
       "output_type": "pyout",
       "prompt_number": 10,
       "text": [
        "(220, 20, 60)"
       ]
      }
     ],
     "prompt_number": 10
    },
    {
     "cell_type": "code",
     "collapsed": false,
     "input": [],
     "language": "python",
     "metadata": {},
     "outputs": []
    }
   ],
   "metadata": {}
  }
 ]
}