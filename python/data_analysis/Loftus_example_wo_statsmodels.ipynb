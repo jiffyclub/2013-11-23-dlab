{
 "metadata": {
  "name": ""
 },
 "nbformat": 3,
 "nbformat_minor": 0,
 "worksheets": [
  {
   "cells": [
    {
     "cell_type": "markdown",
     "metadata": {
      "slideshow": {
       "slide_type": "slide"
      }
     },
     "source": [
      "#Putting it all together\n",
      "\n",
      "## Taking off with Loftus ...\n",
      "\n",
      "(From Abdi, Edelman, Valentin & Dowling, 2009; Williams, Krishnan, & Abdi, 2009)\n",
      "\n",
      "-------------\n",
      "\n",
      "In the 1970s Elizabeth Loftus (Loftus and Palmer, 1974) conducted a series of experiments on the theme of eyewitness testimony. They wanted to find out whether the wording of a question affected the later responses of witnesses. To do this she showed subjects a film of a car accident. Following the film, she asked them a series of questions. Among the questions was one of 5 versions of a critical question concerning the speed the vehicles were travelling in miles per hour. Here are the 5 versions of the question along with the experimental condition in which they occurred:"
     ]
    },
    {
     "cell_type": "markdown",
     "metadata": {
      "slideshow": {
       "slide_type": "fragment"
      }
     },
     "source": [
      "* HIT: About how fast were the cars going when they _hit_ each other?\n",
      "* SMASH: About how fast were the cars going when they _smashed into_ each other?\n",
      "* COLLIDE: About how fast were the cars going when they _collided with_ each other?\n",
      "* BUMP: About how fast were the cars going when they _bumped_ each other?\n",
      "* CONTACT: About how fast were the cars going when they _contacted_ each other?\n"
     ]
    },
    {
     "cell_type": "markdown",
     "metadata": {
      "slideshow": {
       "slide_type": "fragment"
      }
     },
     "source": [
      "Software Carpentry conducted a (ficticious) replication of the study in an online survey. The results are in the file loftus.csv. \n",
      "\n",
      "We want to be able to answer the question: _Does the wording of the question affect witnesses' estimation of the speed the vehicles were traveling?_"
     ]
    }
   ],
   "metadata": {}
  }
 ]
}