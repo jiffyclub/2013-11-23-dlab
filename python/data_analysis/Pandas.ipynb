{
 "metadata": {
  "name": ""
 },
 "nbformat": 3,
 "nbformat_minor": 0,
 "worksheets": [
  {
   "cells": [
    {
     "cell_type": "markdown",
     "metadata": {},
     "source": [
      "# A Quick Introduction to Pandas\n",
      "modified from http://pandas.pydata.org/pandas-docs/stable/10min.html"
     ]
    },
    {
     "cell_type": "markdown",
     "metadata": {},
     "source": [
      "## Import Pandas"
     ]
    },
    {
     "cell_type": "code",
     "collapsed": false,
     "input": [
      "import pandas as pd\n",
      "import numpy as np"
     ],
     "language": "python",
     "metadata": {},
     "outputs": [],
     "prompt_number": 1
    },
    {
     "cell_type": "markdown",
     "metadata": {},
     "source": [
      "## Object Creation\n",
      "\n",
      "Create a `Series` by passing a list of values"
     ]
    },
    {
     "cell_type": "code",
     "collapsed": false,
     "input": [
      "s = pd.Series([1,3,5,np.nan,6,8])\n",
      "s"
     ],
     "language": "python",
     "metadata": {},
     "outputs": [
      {
       "metadata": {},
       "output_type": "pyout",
       "prompt_number": 2,
       "text": [
        "0     1\n",
        "1     3\n",
        "2     5\n",
        "3   NaN\n",
        "4     6\n",
        "5     8\n",
        "dtype: float64"
       ]
      }
     ],
     "prompt_number": 2
    },
    {
     "cell_type": "markdown",
     "metadata": {},
     "source": [
      "Creating a `DataFrame` by passing a numpy array, with a datetime index and labeled columns"
     ]
    },
    {
     "cell_type": "code",
     "collapsed": false,
     "input": [
      "dates = pd.date_range('20130101',periods=6)\n",
      "dates"
     ],
     "language": "python",
     "metadata": {},
     "outputs": [
      {
       "metadata": {},
       "output_type": "pyout",
       "prompt_number": 3,
       "text": [
        "<class 'pandas.tseries.index.DatetimeIndex'>\n",
        "[2013-01-01 00:00:00, ..., 2013-01-06 00:00:00]\n",
        "Length: 6, Freq: D, Timezone: None"
       ]
      }
     ],
     "prompt_number": 3
    },
    {
     "cell_type": "code",
     "collapsed": false,
     "input": [
      "df = pd.DataFrame(np.random.randn(6,4),index=dates,columns=list('ABCD'))\n",
      "df"
     ],
     "language": "python",
     "metadata": {},
     "outputs": [
      {
       "html": [
        "<div style=\"max-height:1000px;max-width:1500px;overflow:auto;\">\n",
        "<table border=\"1\" class=\"dataframe\">\n",
        "  <thead>\n",
        "    <tr style=\"text-align: right;\">\n",
        "      <th></th>\n",
        "      <th>A</th>\n",
        "      <th>B</th>\n",
        "      <th>C</th>\n",
        "      <th>D</th>\n",
        "    </tr>\n",
        "  </thead>\n",
        "  <tbody>\n",
        "    <tr>\n",
        "      <th>2013-01-01</th>\n",
        "      <td>-1.087933</td>\n",
        "      <td> 0.495901</td>\n",
        "      <td>-0.552072</td>\n",
        "      <td> 1.485294</td>\n",
        "    </tr>\n",
        "    <tr>\n",
        "      <th>2013-01-02</th>\n",
        "      <td>-0.161052</td>\n",
        "      <td> 0.072647</td>\n",
        "      <td>-0.868162</td>\n",
        "      <td> 0.245583</td>\n",
        "    </tr>\n",
        "    <tr>\n",
        "      <th>2013-01-03</th>\n",
        "      <td> 0.592972</td>\n",
        "      <td>-0.343027</td>\n",
        "      <td>-1.664357</td>\n",
        "      <td> 0.694557</td>\n",
        "    </tr>\n",
        "    <tr>\n",
        "      <th>2013-01-04</th>\n",
        "      <td> 0.264679</td>\n",
        "      <td> 1.450948</td>\n",
        "      <td> 0.508558</td>\n",
        "      <td>-1.010139</td>\n",
        "    </tr>\n",
        "    <tr>\n",
        "      <th>2013-01-05</th>\n",
        "      <td>-0.782181</td>\n",
        "      <td>-1.167108</td>\n",
        "      <td>-0.094500</td>\n",
        "      <td> 0.694243</td>\n",
        "    </tr>\n",
        "    <tr>\n",
        "      <th>2013-01-06</th>\n",
        "      <td> 0.653638</td>\n",
        "      <td> 1.063473</td>\n",
        "      <td> 0.134324</td>\n",
        "      <td> 0.189000</td>\n",
        "    </tr>\n",
        "  </tbody>\n",
        "</table>\n",
        "</div>"
       ],
       "metadata": {},
       "output_type": "pyout",
       "prompt_number": 4,
       "text": [
        "                   A         B         C         D\n",
        "2013-01-01 -1.087933  0.495901 -0.552072  1.485294\n",
        "2013-01-02 -0.161052  0.072647 -0.868162  0.245583\n",
        "2013-01-03  0.592972 -0.343027 -1.664357  0.694557\n",
        "2013-01-04  0.264679  1.450948  0.508558 -1.010139\n",
        "2013-01-05 -0.782181 -1.167108 -0.094500  0.694243\n",
        "2013-01-06  0.653638  1.063473  0.134324  0.189000"
       ]
      }
     ],
     "prompt_number": 4
    },
    {
     "cell_type": "markdown",
     "metadata": {},
     "source": [
      "Creating a `DataFrame` by passing a dict of objects that can be converted to series-like."
     ]
    },
    {
     "cell_type": "code",
     "collapsed": false,
     "input": [
      "df2 = pd.DataFrame({ 'A' : 1.,\n",
      "   ...:                      'B' : pd.Timestamp('20130102'),\n",
      "   ...:                      'C' : pd.Series(1,index=range(4),dtype='float32'),\n",
      "   ...:                      'D' : np.array([3] * 4,dtype='int32'),\n",
      "   ...:                      'E' : 'foo' })\n",
      "df2"
     ],
     "language": "python",
     "metadata": {},
     "outputs": [
      {
       "html": [
        "<div style=\"max-height:1000px;max-width:1500px;overflow:auto;\">\n",
        "<table border=\"1\" class=\"dataframe\">\n",
        "  <thead>\n",
        "    <tr style=\"text-align: right;\">\n",
        "      <th></th>\n",
        "      <th>A</th>\n",
        "      <th>B</th>\n",
        "      <th>C</th>\n",
        "      <th>D</th>\n",
        "      <th>E</th>\n",
        "    </tr>\n",
        "  </thead>\n",
        "  <tbody>\n",
        "    <tr>\n",
        "      <th>0</th>\n",
        "      <td> 1</td>\n",
        "      <td>2013-01-02 00:00:00</td>\n",
        "      <td> 1</td>\n",
        "      <td> 3</td>\n",
        "      <td> foo</td>\n",
        "    </tr>\n",
        "    <tr>\n",
        "      <th>1</th>\n",
        "      <td> 1</td>\n",
        "      <td>2013-01-02 00:00:00</td>\n",
        "      <td> 1</td>\n",
        "      <td> 3</td>\n",
        "      <td> foo</td>\n",
        "    </tr>\n",
        "    <tr>\n",
        "      <th>2</th>\n",
        "      <td> 1</td>\n",
        "      <td>2013-01-02 00:00:00</td>\n",
        "      <td> 1</td>\n",
        "      <td> 3</td>\n",
        "      <td> foo</td>\n",
        "    </tr>\n",
        "    <tr>\n",
        "      <th>3</th>\n",
        "      <td> 1</td>\n",
        "      <td>2013-01-02 00:00:00</td>\n",
        "      <td> 1</td>\n",
        "      <td> 3</td>\n",
        "      <td> foo</td>\n",
        "    </tr>\n",
        "  </tbody>\n",
        "</table>\n",
        "</div>"
       ],
       "metadata": {},
       "output_type": "pyout",
       "prompt_number": 5,
       "text": [
        "   A                   B  C  D    E\n",
        "0  1 2013-01-02 00:00:00  1  3  foo\n",
        "1  1 2013-01-02 00:00:00  1  3  foo\n",
        "2  1 2013-01-02 00:00:00  1  3  foo\n",
        "3  1 2013-01-02 00:00:00  1  3  foo"
       ]
      }
     ],
     "prompt_number": 5
    },
    {
     "cell_type": "markdown",
     "metadata": {},
     "source": [
      "Having specific `dtypes`"
     ]
    },
    {
     "cell_type": "code",
     "collapsed": false,
     "input": [
      "df2.dtypes"
     ],
     "language": "python",
     "metadata": {},
     "outputs": [
      {
       "metadata": {},
       "output_type": "pyout",
       "prompt_number": 6,
       "text": [
        "A           float64\n",
        "B    datetime64[ns]\n",
        "C           float32\n",
        "D             int32\n",
        "E            object\n",
        "dtype: object"
       ]
      }
     ],
     "prompt_number": 6
    },
    {
     "cell_type": "markdown",
     "metadata": {},
     "source": [
      "---\n",
      "### Exercise\n",
      "Create a pandas data series from the lists from this morning's exercise. Use the cp command from the shell to copy animals.txt and animals.py to the data_analysis folder.\n",
      "\n",
      "---"
     ]
    },
    {
     "cell_type": "code",
     "collapsed": false,
     "input": [
      "!cp ../sw_engineering/animals* ."
     ],
     "language": "python",
     "metadata": {},
     "outputs": [],
     "prompt_number": 7
    },
    {
     "cell_type": "code",
     "collapsed": false,
     "input": [
      "ls"
     ],
     "language": "python",
     "metadata": {},
     "outputs": [
      {
       "output_type": "stream",
       "stream": "stdout",
       "text": [
        "\u001b[31mLoftus_example_wo_statsmodels-Copy0.ipynb\u001b[m\u001b[m*\r\n",
        "\u001b[31mLoftus_example_wo_statsmodels.ipynb\u001b[m\u001b[m*\r\n",
        "\u001b[31mPandas.ipynb\u001b[m\u001b[m*\r\n",
        "\u001b[31mUntitled0.ipynb\u001b[m\u001b[m*\r\n",
        "\u001b[31manimals.py\u001b[m\u001b[m*\r\n",
        "\u001b[31manimals.pyc\u001b[m\u001b[m*\r\n",
        "\u001b[31manimals.txt\u001b[m\u001b[m*\r\n",
        "\u001b[31mexamp_data.txt\u001b[m\u001b[m*\r\n",
        "\u001b[31mexamp_data_species_mass.txt\u001b[m\u001b[m*\r\n",
        "\u001b[31mloftus.csv\u001b[m\u001b[m*\r\n"
       ]
      }
     ],
     "prompt_number": 8
    },
    {
     "cell_type": "code",
     "collapsed": false,
     "input": [
      "wildlife_data = pd.read_table('animals.txt', \" \",header=None, names=['Date','Time','Animal','Count'])"
     ],
     "language": "python",
     "metadata": {},
     "outputs": [],
     "prompt_number": 19
    },
    {
     "cell_type": "code",
     "collapsed": false,
     "input": [
      "wildlife_data"
     ],
     "language": "python",
     "metadata": {},
     "outputs": [
      {
       "html": [
        "<div style=\"max-height:1000px;max-width:1500px;overflow:auto;\">\n",
        "<table border=\"1\" class=\"dataframe\">\n",
        "  <thead>\n",
        "    <tr style=\"text-align: right;\">\n",
        "      <th></th>\n",
        "      <th>Date</th>\n",
        "      <th>Time</th>\n",
        "      <th>Animal</th>\n",
        "      <th>Count</th>\n",
        "    </tr>\n",
        "  </thead>\n",
        "  <tbody>\n",
        "    <tr>\n",
        "      <th>0</th>\n",
        "      <td> 2011-04-22</td>\n",
        "      <td> 21:06</td>\n",
        "      <td>   Grizzly</td>\n",
        "      <td> 36</td>\n",
        "    </tr>\n",
        "    <tr>\n",
        "      <th>1</th>\n",
        "      <td> 2011-04-23</td>\n",
        "      <td> 14:12</td>\n",
        "      <td>       Elk</td>\n",
        "      <td> 25</td>\n",
        "    </tr>\n",
        "    <tr>\n",
        "      <th>2</th>\n",
        "      <td> 2011-04-23</td>\n",
        "      <td> 10:24</td>\n",
        "      <td>       Elk</td>\n",
        "      <td> 26</td>\n",
        "    </tr>\n",
        "    <tr>\n",
        "      <th>3</th>\n",
        "      <td> 2011-04-23</td>\n",
        "      <td> 20:08</td>\n",
        "      <td> Wolverine</td>\n",
        "      <td> 31</td>\n",
        "    </tr>\n",
        "    <tr>\n",
        "      <th>4</th>\n",
        "      <td> 2011-04-23</td>\n",
        "      <td> 18:46</td>\n",
        "      <td>    Muskox</td>\n",
        "      <td> 20</td>\n",
        "    </tr>\n",
        "  </tbody>\n",
        "</table>\n",
        "</div>"
       ],
       "metadata": {},
       "output_type": "pyout",
       "prompt_number": 20,
       "text": [
        "         Date   Time     Animal  Count\n",
        "0  2011-04-22  21:06    Grizzly     36\n",
        "1  2011-04-23  14:12        Elk     25\n",
        "2  2011-04-23  10:24        Elk     26\n",
        "3  2011-04-23  20:08  Wolverine     31\n",
        "4  2011-04-23  18:46     Muskox     20"
       ]
      }
     ],
     "prompt_number": 20
    },
    {
     "cell_type": "code",
     "collapsed": false,
     "input": [
      "df['Date']\n"
     ],
     "language": "python",
     "metadata": {},
     "outputs": [
      {
       "metadata": {},
       "output_type": "pyout",
       "prompt_number": 18,
       "text": [
        "0    2011-04-22\n",
        "1    2011-04-23\n",
        "2    2011-04-23\n",
        "3    2011-04-23\n",
        "4    2011-04-23\n",
        "Name: Date, dtype: object"
       ]
      }
     ],
     "prompt_number": 18
    },
    {
     "cell_type": "code",
     "collapsed": false,
     "input": [
      "loftus_data = pd.read_table('loftus.csv',',')\n",
      "loftus_data"
     ],
     "language": "python",
     "metadata": {},
     "outputs": [
      {
       "html": [
        "<pre>\n",
        "&lt;class 'pandas.core.frame.DataFrame'&gt;\n",
        "Int64Index: 25000 entries, 0 to 24999\n",
        "Data columns (total 7 columns):\n",
        "Participant              25000  non-null values\n",
        "Condition Name           25000  non-null values\n",
        "Condition Number         25000  non-null values\n",
        "Age                      25000  non-null values\n",
        "IQ                       25000  non-null values\n",
        "Estimated Speed (mph)    25000  non-null values\n",
        "Reaction Time (ms)       25000  non-null values\n",
        "dtypes: float64(2), int64(4), object(1)\n",
        "</pre>"
       ],
       "metadata": {},
       "output_type": "pyout",
       "prompt_number": 23,
       "text": [
        "<class 'pandas.core.frame.DataFrame'>\n",
        "Int64Index: 25000 entries, 0 to 24999\n",
        "Data columns (total 7 columns):\n",
        "Participant              25000  non-null values\n",
        "Condition Name           25000  non-null values\n",
        "Condition Number         25000  non-null values\n",
        "Age                      25000  non-null values\n",
        "IQ                       25000  non-null values\n",
        "Estimated Speed (mph)    25000  non-null values\n",
        "Reaction Time (ms)       25000  non-null values\n",
        "dtypes: float64(2), int64(4), object(1)"
       ]
      }
     ],
     "prompt_number": 23
    },
    {
     "cell_type": "code",
     "collapsed": false,
     "input": [
      "loftus_data.head()"
     ],
     "language": "python",
     "metadata": {},
     "outputs": [
      {
       "html": [
        "<div style=\"max-height:1000px;max-width:1500px;overflow:auto;\">\n",
        "<table border=\"1\" class=\"dataframe\">\n",
        "  <thead>\n",
        "    <tr style=\"text-align: right;\">\n",
        "      <th></th>\n",
        "      <th>Participant</th>\n",
        "      <th>Condition Name</th>\n",
        "      <th>Condition Number</th>\n",
        "      <th>Age</th>\n",
        "      <th>IQ</th>\n",
        "      <th>Estimated Speed (mph)</th>\n",
        "      <th>Reaction Time (ms)</th>\n",
        "    </tr>\n",
        "  </thead>\n",
        "  <tbody>\n",
        "    <tr>\n",
        "      <th>0</th>\n",
        "      <td> 1</td>\n",
        "      <td> Contact</td>\n",
        "      <td> 1</td>\n",
        "      <td> 38</td>\n",
        "      <td>  79</td>\n",
        "      <td> 35.343097</td>\n",
        "      <td> 366.349602</td>\n",
        "    </tr>\n",
        "    <tr>\n",
        "      <th>1</th>\n",
        "      <td> 2</td>\n",
        "      <td> Contact</td>\n",
        "      <td> 1</td>\n",
        "      <td> 60</td>\n",
        "      <td> 115</td>\n",
        "      <td> 33.179294</td>\n",
        "      <td> 103.371995</td>\n",
        "    </tr>\n",
        "    <tr>\n",
        "      <th>2</th>\n",
        "      <td> 3</td>\n",
        "      <td> Contact</td>\n",
        "      <td> 1</td>\n",
        "      <td> 55</td>\n",
        "      <td>  99</td>\n",
        "      <td> 45.323799</td>\n",
        "      <td> 117.190930</td>\n",
        "    </tr>\n",
        "    <tr>\n",
        "      <th>3</th>\n",
        "      <td> 4</td>\n",
        "      <td> Contact</td>\n",
        "      <td> 1</td>\n",
        "      <td> 37</td>\n",
        "      <td>  86</td>\n",
        "      <td> 42.669423</td>\n",
        "      <td> 121.062926</td>\n",
        "    </tr>\n",
        "    <tr>\n",
        "      <th>4</th>\n",
        "      <td> 5</td>\n",
        "      <td> Contact</td>\n",
        "      <td> 1</td>\n",
        "      <td> 26</td>\n",
        "      <td>  96</td>\n",
        "      <td> 24.313337</td>\n",
        "      <td> 300.798027</td>\n",
        "    </tr>\n",
        "  </tbody>\n",
        "</table>\n",
        "</div>"
       ],
       "metadata": {},
       "output_type": "pyout",
       "prompt_number": 25,
       "text": [
        "   Participant Condition Name  Condition Number  Age   IQ  \\\n",
        "0            1        Contact                 1   38   79   \n",
        "1            2        Contact                 1   60  115   \n",
        "2            3        Contact                 1   55   99   \n",
        "3            4        Contact                 1   37   86   \n",
        "4            5        Contact                 1   26   96   \n",
        "\n",
        "   Estimated Speed (mph)  Reaction Time (ms)  \n",
        "0              35.343097          366.349602  \n",
        "1              33.179294          103.371995  \n",
        "2              45.323799          117.190930  \n",
        "3              42.669423          121.062926  \n",
        "4              24.313337          300.798027  "
       ]
      }
     ],
     "prompt_number": 25
    },
    {
     "cell_type": "code",
     "collapsed": false,
     "input": [
      "loftus_data.tail()"
     ],
     "language": "python",
     "metadata": {},
     "outputs": [
      {
       "html": [
        "<div style=\"max-height:1000px;max-width:1500px;overflow:auto;\">\n",
        "<table border=\"1\" class=\"dataframe\">\n",
        "  <thead>\n",
        "    <tr style=\"text-align: right;\">\n",
        "      <th></th>\n",
        "      <th>Participant</th>\n",
        "      <th>Condition Name</th>\n",
        "      <th>Condition Number</th>\n",
        "      <th>Age</th>\n",
        "      <th>IQ</th>\n",
        "      <th>Estimated Speed (mph)</th>\n",
        "      <th>Reaction Time (ms)</th>\n",
        "    </tr>\n",
        "  </thead>\n",
        "  <tbody>\n",
        "    <tr>\n",
        "      <th>24995</th>\n",
        "      <td> 24996</td>\n",
        "      <td> Smash</td>\n",
        "      <td> 5</td>\n",
        "      <td> 31</td>\n",
        "      <td>  90</td>\n",
        "      <td> 42.378</td>\n",
        "      <td> 364.140173</td>\n",
        "    </tr>\n",
        "    <tr>\n",
        "      <th>24996</th>\n",
        "      <td> 24997</td>\n",
        "      <td> Smash</td>\n",
        "      <td> 5</td>\n",
        "      <td> 66</td>\n",
        "      <td>  95</td>\n",
        "      <td> 46.275</td>\n",
        "      <td>  74.730491</td>\n",
        "    </tr>\n",
        "    <tr>\n",
        "      <th>24997</th>\n",
        "      <td> 24998</td>\n",
        "      <td> Smash</td>\n",
        "      <td> 5</td>\n",
        "      <td> 42</td>\n",
        "      <td> 105</td>\n",
        "      <td> 35.883</td>\n",
        "      <td> 428.195944</td>\n",
        "    </tr>\n",
        "    <tr>\n",
        "      <th>24998</th>\n",
        "      <td> 24999</td>\n",
        "      <td> Smash</td>\n",
        "      <td> 5</td>\n",
        "      <td> 51</td>\n",
        "      <td> 109</td>\n",
        "      <td> 47.574</td>\n",
        "      <td> 142.604204</td>\n",
        "    </tr>\n",
        "    <tr>\n",
        "      <th>24999</th>\n",
        "      <td> 25000</td>\n",
        "      <td> Smash</td>\n",
        "      <td> 5</td>\n",
        "      <td> 44</td>\n",
        "      <td> 105</td>\n",
        "      <td> 48.763</td>\n",
        "      <td> 193.754748</td>\n",
        "    </tr>\n",
        "  </tbody>\n",
        "</table>\n",
        "</div>"
       ],
       "metadata": {},
       "output_type": "pyout",
       "prompt_number": 26,
       "text": [
        "       Participant Condition Name  Condition Number  Age   IQ  \\\n",
        "24995        24996          Smash                 5   31   90   \n",
        "24996        24997          Smash                 5   66   95   \n",
        "24997        24998          Smash                 5   42  105   \n",
        "24998        24999          Smash                 5   51  109   \n",
        "24999        25000          Smash                 5   44  105   \n",
        "\n",
        "       Estimated Speed (mph)  Reaction Time (ms)  \n",
        "24995                 42.378          364.140173  \n",
        "24996                 46.275           74.730491  \n",
        "24997                 35.883          428.195944  \n",
        "24998                 47.574          142.604204  \n",
        "24999                 48.763          193.754748  "
       ]
      }
     ],
     "prompt_number": 26
    },
    {
     "cell_type": "code",
     "collapsed": false,
     "input": [
      "loftus_data.describe()\n"
     ],
     "language": "python",
     "metadata": {},
     "outputs": [
      {
       "html": [
        "<div style=\"max-height:1000px;max-width:1500px;overflow:auto;\">\n",
        "<table border=\"1\" class=\"dataframe\">\n",
        "  <thead>\n",
        "    <tr style=\"text-align: right;\">\n",
        "      <th></th>\n",
        "      <th>Participant</th>\n",
        "      <th>Condition Number</th>\n",
        "      <th>Age</th>\n",
        "      <th>IQ</th>\n",
        "      <th>Estimated Speed (mph)</th>\n",
        "      <th>Reaction Time (ms)</th>\n",
        "    </tr>\n",
        "  </thead>\n",
        "  <tbody>\n",
        "    <tr>\n",
        "      <th>count</th>\n",
        "      <td> 25000.000000</td>\n",
        "      <td> 25000.000000</td>\n",
        "      <td> 25000.000000</td>\n",
        "      <td> 25000.000000</td>\n",
        "      <td> 25000.000000</td>\n",
        "      <td> 25000.000000</td>\n",
        "    </tr>\n",
        "    <tr>\n",
        "      <th>mean</th>\n",
        "      <td> 12500.500000</td>\n",
        "      <td>     3.000000</td>\n",
        "      <td>    41.752000</td>\n",
        "      <td>    99.959560</td>\n",
        "      <td>    38.000000</td>\n",
        "      <td>   300.000000</td>\n",
        "    </tr>\n",
        "    <tr>\n",
        "      <th>std</th>\n",
        "      <td>  7217.022701</td>\n",
        "      <td>     1.414242</td>\n",
        "      <td>    16.435691</td>\n",
        "      <td>    15.038282</td>\n",
        "      <td>    10.449322</td>\n",
        "      <td>   140.000000</td>\n",
        "    </tr>\n",
        "    <tr>\n",
        "      <th>min</th>\n",
        "      <td>     1.000000</td>\n",
        "      <td>     1.000000</td>\n",
        "      <td>   -22.000000</td>\n",
        "      <td>    38.000000</td>\n",
        "      <td>    -7.928400</td>\n",
        "      <td>  -251.432626</td>\n",
        "    </tr>\n",
        "    <tr>\n",
        "      <th>25%</th>\n",
        "      <td>  6250.750000</td>\n",
        "      <td>     2.000000</td>\n",
        "      <td>    31.000000</td>\n",
        "      <td>    90.000000</td>\n",
        "      <td>    31.426000</td>\n",
        "      <td>   206.573333</td>\n",
        "    </tr>\n",
        "    <tr>\n",
        "      <th>50%</th>\n",
        "      <td> 12500.500000</td>\n",
        "      <td>     3.000000</td>\n",
        "      <td>    42.000000</td>\n",
        "      <td>   100.000000</td>\n",
        "      <td>    39.051500</td>\n",
        "      <td>   299.767378</td>\n",
        "    </tr>\n",
        "    <tr>\n",
        "      <th>75%</th>\n",
        "      <td> 18750.250000</td>\n",
        "      <td>     4.000000</td>\n",
        "      <td>    53.000000</td>\n",
        "      <td>   110.000000</td>\n",
        "      <td>    45.417000</td>\n",
        "      <td>   394.292844</td>\n",
        "    </tr>\n",
        "    <tr>\n",
        "      <th>max</th>\n",
        "      <td> 25000.000000</td>\n",
        "      <td>     5.000000</td>\n",
        "      <td>   112.000000</td>\n",
        "      <td>   172.000000</td>\n",
        "      <td>    75.173000</td>\n",
        "      <td>   876.373825</td>\n",
        "    </tr>\n",
        "  </tbody>\n",
        "</table>\n",
        "</div>"
       ],
       "metadata": {},
       "output_type": "pyout",
       "prompt_number": 28,
       "text": [
        "        Participant  Condition Number           Age            IQ  \\\n",
        "count  25000.000000      25000.000000  25000.000000  25000.000000   \n",
        "mean   12500.500000          3.000000     41.752000     99.959560   \n",
        "std     7217.022701          1.414242     16.435691     15.038282   \n",
        "min        1.000000          1.000000    -22.000000     38.000000   \n",
        "25%     6250.750000          2.000000     31.000000     90.000000   \n",
        "50%    12500.500000          3.000000     42.000000    100.000000   \n",
        "75%    18750.250000          4.000000     53.000000    110.000000   \n",
        "max    25000.000000          5.000000    112.000000    172.000000   \n",
        "\n",
        "       Estimated Speed (mph)  Reaction Time (ms)  \n",
        "count           25000.000000        25000.000000  \n",
        "mean               38.000000          300.000000  \n",
        "std                10.449322          140.000000  \n",
        "min                -7.928400         -251.432626  \n",
        "25%                31.426000          206.573333  \n",
        "50%                39.051500          299.767378  \n",
        "75%                45.417000          394.292844  \n",
        "max                75.173000          876.373825  "
       ]
      }
     ],
     "prompt_number": 28
    },
    {
     "cell_type": "code",
     "collapsed": false,
     "input": [
      "speed=loftus_data.icol(5)\n",
      "speed[speed < 0]\n",
      "speed[speed<0].count()\n",
      "\n",
      "cond = loftus_data.icol(2)\n",
      "\n",
      "for idx, c in enumerate(cond):\n",
      "    if loftus_data.icol(5)[idx] < 0:\n",
      "        print idx, loftus_data.ix[idx][1]\n",
      "    \n",
      "\n"
     ],
     "language": "python",
     "metadata": {},
     "outputs": [
      {
       "output_type": "stream",
       "stream": "stdout",
       "text": [
        " 1171 "
       ]
      },
      {
       "output_type": "stream",
       "stream": "stdout",
       "text": [
        "Contact\n",
        "1191 Contact\n",
        "1732 Contact\n",
        "1762 Contact\n",
        "1803 Contact\n",
        "2106"
       ]
      },
      {
       "output_type": "stream",
       "stream": "stdout",
       "text": [
        " Contact\n",
        "2239 Contact\n",
        "2622 Contact\n",
        "3481"
       ]
      },
      {
       "output_type": "stream",
       "stream": "stdout",
       "text": [
        " Contact\n",
        "3500 Contact\n",
        "3590 Contact\n",
        "3641 Contact\n",
        "4689"
       ]
      },
      {
       "output_type": "stream",
       "stream": "stdout",
       "text": [
        " Contact\n",
        "4798 Contact\n",
        "4965 Contact\n"
       ]
      }
     ],
     "prompt_number": 40
    },
    {
     "cell_type": "code",
     "collapsed": false,
     "input": [
      "list(set(loftus_data['Condition Name']))"
     ],
     "language": "python",
     "metadata": {},
     "outputs": [
      {
       "metadata": {},
       "output_type": "pyout",
       "prompt_number": 46,
       "text": [
        "['Smash', 'Hit', 'Bump', 'Collide', 'Contact', 'Sash']"
       ]
      }
     ],
     "prompt_number": 46
    },
    {
     "cell_type": "code",
     "collapsed": false,
     "input": [
      "loftus_data[loftus_data.icol(1) == 'Sash']"
     ],
     "language": "python",
     "metadata": {},
     "outputs": [
      {
       "html": [
        "<div style=\"max-height:1000px;max-width:1500px;overflow:auto;\">\n",
        "<table border=\"1\" class=\"dataframe\">\n",
        "  <thead>\n",
        "    <tr style=\"text-align: right;\">\n",
        "      <th></th>\n",
        "      <th>Participant</th>\n",
        "      <th>Condition Name</th>\n",
        "      <th>Condition Number</th>\n",
        "      <th>Age</th>\n",
        "      <th>IQ</th>\n",
        "      <th>Estimated Speed (mph)</th>\n",
        "      <th>Reaction Time (ms)</th>\n",
        "    </tr>\n",
        "  </thead>\n",
        "  <tbody>\n",
        "    <tr>\n",
        "      <th>20261</th>\n",
        "      <td> 20262</td>\n",
        "      <td> Sash</td>\n",
        "      <td> 5</td>\n",
        "      <td> 60</td>\n",
        "      <td>  67</td>\n",
        "      <td> 47.348</td>\n",
        "      <td> 396.417440</td>\n",
        "    </tr>\n",
        "    <tr>\n",
        "      <th>20282</th>\n",
        "      <td> 20283</td>\n",
        "      <td> Sash</td>\n",
        "      <td> 5</td>\n",
        "      <td> 44</td>\n",
        "      <td> 106</td>\n",
        "      <td> 51.788</td>\n",
        "      <td> 430.563953</td>\n",
        "    </tr>\n",
        "  </tbody>\n",
        "</table>\n",
        "</div>"
       ],
       "metadata": {},
       "output_type": "pyout",
       "prompt_number": 47,
       "text": [
        "       Participant Condition Name  Condition Number  Age   IQ  \\\n",
        "20261        20262           Sash                 5   60   67   \n",
        "20282        20283           Sash                 5   44  106   \n",
        "\n",
        "       Estimated Speed (mph)  Reaction Time (ms)  \n",
        "20261                 47.348          396.417440  \n",
        "20282                 51.788          430.563953  "
       ]
      }
     ],
     "prompt_number": 47
    },
    {
     "cell_type": "code",
     "collapsed": false,
     "input": [
      "loftus_data[loftus_data.icol(1) == 'Smash']"
     ],
     "language": "python",
     "metadata": {},
     "outputs": [
      {
       "html": [
        "<pre>\n",
        "&lt;class 'pandas.core.frame.DataFrame'&gt;\n",
        "Int64Index: 4998 entries, 20000 to 24999\n",
        "Data columns (total 7 columns):\n",
        "Participant              4998  non-null values\n",
        "Condition Name           4998  non-null values\n",
        "Condition Number         4998  non-null values\n",
        "Age                      4998  non-null values\n",
        "IQ                       4998  non-null values\n",
        "Estimated Speed (mph)    4998  non-null values\n",
        "Reaction Time (ms)       4998  non-null values\n",
        "dtypes: float64(2), int64(4), object(1)\n",
        "</pre>"
       ],
       "metadata": {},
       "output_type": "pyout",
       "prompt_number": 48,
       "text": [
        "<class 'pandas.core.frame.DataFrame'>\n",
        "Int64Index: 4998 entries, 20000 to 24999\n",
        "Data columns (total 7 columns):\n",
        "Participant              4998  non-null values\n",
        "Condition Name           4998  non-null values\n",
        "Condition Number         4998  non-null values\n",
        "Age                      4998  non-null values\n",
        "IQ                       4998  non-null values\n",
        "Estimated Speed (mph)    4998  non-null values\n",
        "Reaction Time (ms)       4998  non-null values\n",
        "dtypes: float64(2), int64(4), object(1)"
       ]
      }
     ],
     "prompt_number": 48
    },
    {
     "cell_type": "code",
     "collapsed": false,
     "input": [
      "for idx, item in enumerate(loftus_data['Condition Name']):\n",
      "    if item == 'Sash':\n",
      "        loftus_data['Condition Name'][idx] = 'Smash'\n",
      "        print idx"
     ],
     "language": "python",
     "metadata": {},
     "outputs": [],
     "prompt_number": 52
    },
    {
     "cell_type": "code",
     "collapsed": false,
     "input": [
      "%pylab inline\n",
      "\n"
     ],
     "language": "python",
     "metadata": {},
     "outputs": [
      {
       "output_type": "stream",
       "stream": "stdout",
       "text": [
        "Populating the interactive namespace from numpy and matplotlib\n"
       ]
      },
      {
       "output_type": "stream",
       "stream": "stderr",
       "text": [
        "WARNING: pylab import has clobbered these variables: ['cond']\n",
        "`%pylab --no-import-all` prevents importing * from pylab and numpy\n"
       ]
      }
     ],
     "prompt_number": 53
    },
    {
     "cell_type": "code",
     "collapsed": false,
     "input": [
      "hist(loftus_data.icol(5)[loftus_data.icol(1)==\"Contact\"])"
     ],
     "language": "python",
     "metadata": {},
     "outputs": [
      {
       "metadata": {},
       "output_type": "pyout",
       "prompt_number": 56,
       "text": [
        "(array([   13.,    63.,   318.,   727.,  1220.,  1306.,   868.,   384.,\n",
        "          83.,    18.]),\n",
        " array([ -7.9284 ,  -0.50186,   6.92468,  14.35122,  21.77776,  29.2043 ,\n",
        "        36.63084,  44.05738,  51.48392,  58.91046,  66.337  ]),\n",
        " <a list of 10 Patch objects>)"
       ]
      },
      {
       "metadata": {},
       "output_type": "display_data",
       "png": "[encoded data removed]",
       "text": [
        "<matplotlib.figure.Figure at 0x1073082d0>"
       ]
      }
     ],
     "prompt_number": 56
    },
    {
     "cell_type": "code",
     "collapsed": false,
     "input": [
      "hist(loftus_data.icol(5))"
     ],
     "language": "python",
     "metadata": {},
     "outputs": [
      {
       "metadata": {},
       "output_type": "pyout",
       "prompt_number": 57,
       "text": [
        "(array([   17.,   128.,   736.,  2194.,  4721.,  7508.,  7123.,  2264.,\n",
        "         291.,    18.]),\n",
        " array([ -7.9284 ,   0.38174,   8.69188,  17.00202,  25.31216,  33.6223 ,\n",
        "        41.93244,  50.24258,  58.55272,  66.86286,  75.173  ]),\n",
        " <a list of 10 Patch objects>)"
       ]
      },
      {
       "metadata": {},
       "output_type": "display_data",
       "png": "[encoded data removed]",
       "text": [
        "<matplotlib.figure.Figure at 0x1072c5b90>"
       ]
      }
     ],
     "prompt_number": 57
    },
    {
     "cell_type": "code",
     "collapsed": false,
     "input": [
      "loftus_data.mean().plot(kind='bar')"
     ],
     "language": "python",
     "metadata": {},
     "outputs": [
      {
       "metadata": {},
       "output_type": "pyout",
       "prompt_number": 58,
       "text": [
        "<matplotlib.axes.AxesSubplot at 0x10722b110>"
       ]
      },
      {
       "metadata": {},
       "output_type": "display_data",
       "png": "[encoded data removed]",
       "text": [
        "<matplotlib.figure.Figure at 0x10722fd90>"
       ]
      }
     ],
     "prompt_number": 58
    },
    {
     "cell_type": "code",
     "collapsed": false,
     "input": [
      "loftus.data"
     ],
     "language": "python",
     "metadata": {},
     "outputs": [
      {
       "metadata": {},
       "output_type": "pyout",
       "prompt_number": 61,
       "text": [
        "0     Contact\n",
        "1     Contact\n",
        "2     Contact\n",
        "3     Contact\n",
        "4     Contact\n",
        "5     Contact\n",
        "6     Contact\n",
        "7     Contact\n",
        "8     Contact\n",
        "9     Contact\n",
        "10    Contact\n",
        "11    Contact\n",
        "12    Contact\n",
        "13    Contact\n",
        "14    Contact\n",
        "...\n",
        "24985    Smash\n",
        "24986    Smash\n",
        "24987    Smash\n",
        "24988    Smash\n",
        "24989    Smash\n",
        "24990    Smash\n",
        "24991    Smash\n",
        "24992    Smash\n",
        "24993    Smash\n",
        "24994    Smash\n",
        "24995    Smash\n",
        "24996    Smash\n",
        "24997    Smash\n",
        "24998    Smash\n",
        "24999    Smash\n",
        "Name: Condition Name, Length: 25000, dtype: object"
       ]
      }
     ],
     "prompt_number": 61
    },
    {
     "cell_type": "code",
     "collapsed": false,
     "input": [
      "df = pd.DataFrame([loftus_data.icol(5)[loftus_data.icol(1)==\"Bump\"], loftus_data.icol(5)[loftus_data.icol(1)==\"Collide\"], loftus_data.icol(5)[loftus_data.icol(1)==\"Contact\"], loftus_data.icol(5)[loftus_data.icol(1)==\"Hit\"], loftus_data.icol(5)[loftus_data.icol(1)==\"Smash\"]])\n",
      "df"
     ],
     "language": "python",
     "metadata": {},
     "outputs": [
      {
       "html": [
        "<pre>\n",
        "&lt;class 'pandas.core.frame.DataFrame'&gt;\n",
        "Index: 5 entries, Estimated Speed (mph) to Estimated Speed (mph)\n",
        "Columns: 25000 entries, 0 to 24999\n",
        "dtypes: float64(25000)\n",
        "</pre>"
       ],
       "metadata": {},
       "output_type": "pyout",
       "prompt_number": 65,
       "text": [
        "<class 'pandas.core.frame.DataFrame'>\n",
        "Index: 5 entries, Estimated Speed (mph) to Estimated Speed (mph)\n",
        "Columns: 25000 entries, 0 to 24999\n",
        "dtypes: float64(25000)"
       ]
      }
     ],
     "prompt_number": 65
    },
    {
     "cell_type": "code",
     "collapsed": false,
     "input": [
      "grouped = loftus_data.groupby(loftus_data['Condition Name'])"
     ],
     "language": "python",
     "metadata": {},
     "outputs": [],
     "prompt_number": 67
    },
    {
     "cell_type": "code",
     "collapsed": false,
     "input": [
      "grouped['Estimated Speed (mph)'].mean().plot(kind='bar')"
     ],
     "language": "python",
     "metadata": {},
     "outputs": [
      {
       "metadata": {},
       "output_type": "pyout",
       "prompt_number": 70,
       "text": [
        "<matplotlib.axes.AxesSubplot at 0x1066def90>"
       ]
      },
      {
       "metadata": {},
       "output_type": "display_data",
       "png": "[encoded data removed]",
       "text": [
        "<matplotlib.figure.Figure at 0x1066dea10>"
       ]
      }
     ],
     "prompt_number": 70
    },
    {
     "cell_type": "markdown",
     "metadata": {},
     "source": [
      "## Viewing Data\n",
      "See the top & bottom rows of the frame"
     ]
    },
    {
     "cell_type": "code",
     "collapsed": false,
     "input": [
      "df.head()"
     ],
     "language": "python",
     "metadata": {},
     "outputs": []
    },
    {
     "cell_type": "code",
     "collapsed": false,
     "input": [
      "df.tail(3)"
     ],
     "language": "python",
     "metadata": {},
     "outputs": []
    },
    {
     "cell_type": "markdown",
     "metadata": {},
     "source": [
      "Display the index,columns, and the underlying numpy data"
     ]
    },
    {
     "cell_type": "code",
     "collapsed": false,
     "input": [
      "df.index"
     ],
     "language": "python",
     "metadata": {},
     "outputs": []
    },
    {
     "cell_type": "code",
     "collapsed": false,
     "input": [
      "df.columns"
     ],
     "language": "python",
     "metadata": {},
     "outputs": []
    },
    {
     "cell_type": "code",
     "collapsed": false,
     "input": [
      "df.values"
     ],
     "language": "python",
     "metadata": {},
     "outputs": []
    },
    {
     "cell_type": "markdown",
     "metadata": {},
     "source": [
      "Describe shows a quick statistic summary of your data"
     ]
    },
    {
     "cell_type": "code",
     "collapsed": false,
     "input": [
      "df.describe()"
     ],
     "language": "python",
     "metadata": {},
     "outputs": []
    },
    {
     "cell_type": "markdown",
     "metadata": {},
     "source": [
      "Transposing your data"
     ]
    },
    {
     "cell_type": "code",
     "collapsed": false,
     "input": [
      "df.T"
     ],
     "language": "python",
     "metadata": {},
     "outputs": []
    },
    {
     "cell_type": "markdown",
     "metadata": {},
     "source": [
      "Sorting by an axis"
     ]
    },
    {
     "cell_type": "code",
     "collapsed": false,
     "input": [
      "df.sort_index(axis=1, ascending=False)"
     ],
     "language": "python",
     "metadata": {},
     "outputs": []
    },
    {
     "cell_type": "markdown",
     "metadata": {},
     "source": [
      "Sorting by values"
     ]
    },
    {
     "cell_type": "code",
     "collapsed": false,
     "input": [
      "df.sort(columns='B')"
     ],
     "language": "python",
     "metadata": {},
     "outputs": []
    },
    {
     "cell_type": "markdown",
     "metadata": {},
     "source": [
      "---\n",
      "### Exercise\n",
      "Sort the dictionary you created yesterday (now in a dataframe called `dictionary` by the values of the third column\n",
      "\n",
      "---"
     ]
    },
    {
     "cell_type": "markdown",
     "metadata": {},
     "source": [
      "## Selection\n",
      "### Getting\n",
      "Selecting a single column, which yields a `Series`, equivalent to `df.A`"
     ]
    },
    {
     "cell_type": "code",
     "collapsed": false,
     "input": [
      "df['A']"
     ],
     "language": "python",
     "metadata": {},
     "outputs": []
    },
    {
     "cell_type": "code",
     "collapsed": false,
     "input": [
      "df[0:3]"
     ],
     "language": "python",
     "metadata": {},
     "outputs": []
    },
    {
     "cell_type": "code",
     "collapsed": false,
     "input": [
      " df['20130102':'20130104']"
     ],
     "language": "python",
     "metadata": {},
     "outputs": []
    },
    {
     "cell_type": "markdown",
     "metadata": {},
     "source": [
      "### Selection by Label\n",
      "For getting a cross section using a label"
     ]
    },
    {
     "cell_type": "code",
     "collapsed": false,
     "input": [
      "df.loc[dates[0]]"
     ],
     "language": "python",
     "metadata": {},
     "outputs": []
    },
    {
     "cell_type": "markdown",
     "metadata": {},
     "source": [
      "Selecting on a multi-axis by label"
     ]
    },
    {
     "cell_type": "code",
     "collapsed": false,
     "input": [
      "df.loc[:,['A','B']]"
     ],
     "language": "python",
     "metadata": {},
     "outputs": []
    },
    {
     "cell_type": "markdown",
     "metadata": {},
     "source": [
      "Showing label slicing, both endpoints are _included_"
     ]
    },
    {
     "cell_type": "code",
     "collapsed": false,
     "input": [
      "df.loc['20130102':'20130104',['A','B']]"
     ],
     "language": "python",
     "metadata": {},
     "outputs": []
    },
    {
     "cell_type": "markdown",
     "metadata": {},
     "source": [
      "Reduction in the dimensions of the returned object"
     ]
    },
    {
     "cell_type": "code",
     "collapsed": false,
     "input": [
      "df.loc['20130102',['A','B']]"
     ],
     "language": "python",
     "metadata": {},
     "outputs": []
    },
    {
     "cell_type": "markdown",
     "metadata": {},
     "source": [
      "For getting a scalar value"
     ]
    },
    {
     "cell_type": "code",
     "collapsed": false,
     "input": [
      "df.loc[dates[0],'A']"
     ],
     "language": "python",
     "metadata": {},
     "outputs": []
    },
    {
     "cell_type": "markdown",
     "metadata": {},
     "source": [
      "### Selection by Postion\n",
      "Select via the position of the passed integers"
     ]
    },
    {
     "cell_type": "code",
     "collapsed": false,
     "input": [
      "df.iloc[3]"
     ],
     "language": "python",
     "metadata": {},
     "outputs": []
    },
    {
     "cell_type": "markdown",
     "metadata": {},
     "source": [
      "By integer slices, acting similar to numpy/python"
     ]
    },
    {
     "cell_type": "code",
     "collapsed": false,
     "input": [
      "df.iloc[[1,2,4],[0,2]]"
     ],
     "language": "python",
     "metadata": {},
     "outputs": []
    },
    {
     "cell_type": "markdown",
     "metadata": {},
     "source": [
      "For slicing rows explicitly"
     ]
    },
    {
     "cell_type": "code",
     "collapsed": false,
     "input": [
      "df.iloc[:,1:3]"
     ],
     "language": "python",
     "metadata": {},
     "outputs": []
    },
    {
     "cell_type": "markdown",
     "metadata": {},
     "source": [
      "For getting a value explicity"
     ]
    },
    {
     "cell_type": "code",
     "collapsed": false,
     "input": [
      "df.iloc[1,1]"
     ],
     "language": "python",
     "metadata": {},
     "outputs": []
    },
    {
     "cell_type": "markdown",
     "metadata": {},
     "source": [
      "There is one signficant departure from standard python/numpy slicing semantics. python/numpy allow slicing past the end of an array without an associated error."
     ]
    },
    {
     "cell_type": "code",
     "collapsed": false,
     "input": [
      "# These are allowed in python/numpy\n",
      "x = list('abcdef')"
     ],
     "language": "python",
     "metadata": {},
     "outputs": []
    },
    {
     "cell_type": "code",
     "collapsed": false,
     "input": [
      "x[4:10]"
     ],
     "language": "python",
     "metadata": {},
     "outputs": []
    },
    {
     "cell_type": "code",
     "collapsed": false,
     "input": [
      "x[8:10]"
     ],
     "language": "python",
     "metadata": {},
     "outputs": []
    },
    {
     "cell_type": "markdown",
     "metadata": {},
     "source": [
      "Pandas will detect this and raise `IndexError`, rather than return an empty structure."
     ]
    },
    {
     "cell_type": "code",
     "collapsed": false,
     "input": [
      "df.iloc[:,8:10]"
     ],
     "language": "python",
     "metadata": {},
     "outputs": []
    },
    {
     "cell_type": "markdown",
     "metadata": {},
     "source": [
      "###Boolean Indexing\n",
      "\n",
      "Using a single column\u2019s values to select data."
     ]
    },
    {
     "cell_type": "code",
     "collapsed": false,
     "input": [
      "df[df.A > 0]"
     ],
     "language": "python",
     "metadata": {},
     "outputs": []
    },
    {
     "cell_type": "markdown",
     "metadata": {},
     "source": [
      "A where operation for getting."
     ]
    },
    {
     "cell_type": "code",
     "collapsed": false,
     "input": [
      "df[df > 0]"
     ],
     "language": "python",
     "metadata": {},
     "outputs": []
    },
    {
     "cell_type": "markdown",
     "metadata": {},
     "source": [
      "---\n",
      "### Exercise\n",
      "Show only the second to last column of `dictionary`\n",
      "\n",
      "---"
     ]
    },
    {
     "cell_type": "markdown",
     "metadata": {},
     "source": [
      "##Stats\n",
      "Operations in general exclude missing data.\n",
      "\n",
      "Performing a descriptive statistic"
     ]
    },
    {
     "cell_type": "code",
     "collapsed": false,
     "input": [
      "df.mean()"
     ],
     "language": "python",
     "metadata": {},
     "outputs": []
    },
    {
     "cell_type": "markdown",
     "metadata": {},
     "source": [
      "Same operation on the other axis"
     ]
    },
    {
     "cell_type": "code",
     "collapsed": false,
     "input": [
      "df.mean(1)"
     ],
     "language": "python",
     "metadata": {},
     "outputs": []
    },
    {
     "cell_type": "markdown",
     "metadata": {},
     "source": [
      "---\n",
      "### Exercise\n",
      "\n",
      "Look up the command for getting the standard deviation in `pandas` (http://pandas.pydata.org). Get the standard deviation of both the rows and the columns. Sort the standard deviations for the rows in ascending order.\n",
      "\n",
      "---"
     ]
    },
    {
     "cell_type": "markdown",
     "metadata": {},
     "source": [
      "## Missing Data\n",
      "Pandas primarily uses the value np.nan to represent missing data. It is by default not included in computations.\n",
      "\n",
      "Reindexing allows you to change/add/delete the index on a specified axis. This returns a copy of the data."
     ]
    },
    {
     "cell_type": "code",
     "collapsed": false,
     "input": [
      "df1 = df.reindex(index=dates[0:4],columns=list(df.columns) + ['E'])\n",
      "df1.loc[dates[0]:dates[1],'E'] = 1\n",
      "df1"
     ],
     "language": "python",
     "metadata": {},
     "outputs": []
    },
    {
     "cell_type": "markdown",
     "metadata": {},
     "source": [
      "To drop any rows that have missing data."
     ]
    },
    {
     "cell_type": "code",
     "collapsed": false,
     "input": [
      "df1.dropna(how='any')"
     ],
     "language": "python",
     "metadata": {},
     "outputs": []
    },
    {
     "cell_type": "markdown",
     "metadata": {},
     "source": [
      "Filling missing data"
     ]
    },
    {
     "cell_type": "code",
     "collapsed": false,
     "input": [
      "df1.fillna(value=5)"
     ],
     "language": "python",
     "metadata": {},
     "outputs": []
    },
    {
     "cell_type": "markdown",
     "metadata": {},
     "source": [
      "To get the boolean mask where values are `nan`"
     ]
    },
    {
     "cell_type": "code",
     "collapsed": false,
     "input": [
      "pd.isnull(df1)"
     ],
     "language": "python",
     "metadata": {},
     "outputs": []
    },
    {
     "cell_type": "markdown",
     "metadata": {},
     "source": [
      "## Creating Histograms"
     ]
    },
    {
     "cell_type": "code",
     "collapsed": false,
     "input": [
      "s = pd.Series(np.random.randint(0,7,size=10))\n",
      "s"
     ],
     "language": "python",
     "metadata": {},
     "outputs": []
    },
    {
     "cell_type": "code",
     "collapsed": false,
     "input": [
      "s.value_counts()"
     ],
     "language": "python",
     "metadata": {},
     "outputs": []
    },
    {
     "cell_type": "markdown",
     "metadata": {},
     "source": [
      "## Grouping\n",
      "By \u201cgroup by\u201d we are referring to a process involving one or more of the following steps\n",
      "\n",
      "- **Splitting** the data into groups based on some criteria\n",
      "        \n",
      "- **Applying** a function to each group independently\n",
      "\n",
      "- **Combining** the results into a data structure\n",
      "\n"
     ]
    },
    {
     "cell_type": "code",
     "collapsed": false,
     "input": [
      "df = pd.DataFrame({'A' : ['foo', 'bar', 'foo', 'bar',\n",
      "                    'foo', 'bar', 'foo', 'foo'],\n",
      "                    'B' : ['one', 'one', 'two', 'three',\n",
      "                         'two', 'two', 'one', 'three'],\n",
      "                    'C' : np.random.randn(8), 'D' : np.random.randn(8)})\n",
      "\n",
      "df"
     ],
     "language": "python",
     "metadata": {},
     "outputs": []
    },
    {
     "cell_type": "markdown",
     "metadata": {},
     "source": [
      "Grouping and then applying a function `sum` to the resulting groups."
     ]
    },
    {
     "cell_type": "code",
     "collapsed": false,
     "input": [
      "df.groupby('A').sum()"
     ],
     "language": "python",
     "metadata": {},
     "outputs": []
    },
    {
     "cell_type": "markdown",
     "metadata": {},
     "source": [
      "Grouping by multiple columns forms a hierarchical index, which we then apply the function."
     ]
    },
    {
     "cell_type": "code",
     "collapsed": false,
     "input": [
      "df.groupby(['A','B']).sum()"
     ],
     "language": "python",
     "metadata": {},
     "outputs": []
    },
    {
     "cell_type": "markdown",
     "metadata": {},
     "source": [
      "## Plotting"
     ]
    }
   ],
   "metadata": {}
  }
 ]
}